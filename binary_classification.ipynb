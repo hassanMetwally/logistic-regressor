{
 "cells": [
  {
   "cell_type": "code",
   "execution_count": 1,
   "metadata": {},
   "outputs": [],
   "source": [
    "import numpy as np\n",
    "import pandas as pd\n",
    "import matplotlib.pyplot as plt\n",
    "import scipy as sp"
   ]
  },
  {
   "cell_type": "markdown",
   "metadata": {},
   "source": [
    "# read data\n",
    "# show data details"
   ]
  },
  {
   "cell_type": "code",
   "execution_count": 2,
   "metadata": {},
   "outputs": [
    {
     "name": "stdout",
     "output_type": "stream",
     "text": [
      "data : \n",
      "       Exam 1     Exam 2  Admitted\n",
      "0  34.623660  78.024693         0\n",
      "1  30.286711  43.894998         0\n",
      "2  35.847409  72.902198         0\n",
      "3  60.182599  86.308552         1\n",
      "4  79.032736  75.344376         1\n",
      "5  45.083277  56.316372         0\n",
      "6  61.106665  96.511426         1\n",
      "7  75.024746  46.554014         1\n",
      "8  76.098787  87.420570         1\n",
      "9  84.432820  43.533393         1\n",
      "data.description : \n",
      "            Exam 1      Exam 2    Admitted\n",
      "count  100.000000  100.000000  100.000000\n",
      "mean    65.644274   66.221998    0.600000\n",
      "std     19.458222   18.582783    0.492366\n",
      "min     30.058822   30.603263    0.000000\n",
      "25%     50.919511   48.179205    0.000000\n",
      "50%     67.032988   67.682381    1.000000\n",
      "75%     80.212529   79.360605    1.000000\n",
      "max     99.827858   98.869436    1.000000\n"
     ]
    }
   ],
   "source": [
    "data = pd.read_csv(\"D:\\\\most_wonted\\\\ai_projects\\\\classification\\\\data_set\\\\data1.txt\", names=['Exam 1', 'Exam 2', 'Admitted'])\n",
    "print('data : \\n' , data.head(10))\n",
    "print('data.description : \\n' , data.describe())\n"
   ]
  },
  {
   "cell_type": "markdown",
   "metadata": {},
   "source": [
    "# adding a new column called ones before the data"
   ]
  },
  {
   "cell_type": "code",
   "execution_count": 3,
   "metadata": {},
   "outputs": [
    {
     "name": "stdout",
     "output_type": "stream",
     "text": [
      "new data: \n",
      "    ones     Exam 1     Exam 2  Admitted\n",
      "0     1  34.623660  78.024693         0\n",
      "1     1  30.286711  43.894998         0\n",
      "2     1  35.847409  72.902198         0\n",
      "3     1  60.182599  86.308552         1\n",
      "4     1  79.032736  75.344376         1\n",
      "5     1  45.083277  56.316372         0\n",
      "6     1  61.106665  96.511426         1\n",
      "7     1  75.024746  46.554014         1\n",
      "8     1  76.098787  87.420570         1\n",
      "9     1  84.432820  43.533393         1\n"
     ]
    }
   ],
   "source": [
    "data.insert(0,'ones', 1)\n",
    "print('new data: \\n', data.head(10))"
   ]
  },
  {
   "cell_type": "markdown",
   "metadata": {},
   "source": [
    "# Separateing positive class examples from negative class"
   ]
  },
  {
   "cell_type": "code",
   "execution_count": 4,
   "metadata": {},
   "outputs": [
    {
     "name": "stdout",
     "output_type": "stream",
     "text": [
      "Positive Examples : \n",
      "     ones     Exam 1     Exam 2  Admitted\n",
      "3      1  60.182599  86.308552         1\n",
      "4      1  79.032736  75.344376         1\n",
      "6      1  61.106665  96.511426         1\n",
      "7      1  75.024746  46.554014         1\n",
      "8      1  76.098787  87.420570         1\n",
      "9      1  84.432820  43.533393         1\n",
      "12     1  82.307053  76.481963         1\n",
      "13     1  69.364589  97.718692         1\n",
      "15     1  53.971052  89.207350         1\n",
      "16     1  69.070144  52.740470         1\n",
      "Negative Examples : \n",
      "     ones     Exam 1     Exam 2  Admitted\n",
      "0      1  34.623660  78.024693         0\n",
      "1      1  30.286711  43.894998         0\n",
      "2      1  35.847409  72.902198         0\n",
      "5      1  45.083277  56.316372         0\n",
      "10     1  95.861555  38.225278         0\n",
      "11     1  75.013658  30.603263         0\n",
      "14     1  39.538339  76.036811         0\n",
      "17     1  67.946855  46.678574         0\n",
      "20     1  67.372028  42.838438         0\n",
      "22     1  50.534788  48.855812         0\n"
     ]
    }
   ],
   "source": [
    "positive = data[data['Admitted'].isin([1])]\n",
    "negative = data[data['Admitted'].isin([0])]\n",
    "print('Positive Examples : \\n', positive.head(10))\n",
    "print('Negative Examples : \\n', negative.head(10))"
   ]
  },
  {
   "cell_type": "markdown",
   "metadata": {},
   "source": [
    "# draw data"
   ]
  },
  {
   "cell_type": "code",
   "execution_count": 5,
   "metadata": {},
   "outputs": [
    {
     "data": {
      "text/plain": [
       "Text(0, 0.5, 'Exam2Score')"
      ]
     },
     "execution_count": 5,
     "metadata": {},
     "output_type": "execute_result"
    },
    {
     "data": {
      "image/png": "[encoded data removed]",
      "text/plain": [
       "<Figure size 640x480 with 1 Axes>"
      ]
     },
     "metadata": {},
     "output_type": "display_data"
    }
   ],
   "source": [
    "fig, ax = plt.subplots()\n",
    "ax.scatter(positive['Exam 1'], positive['Exam 2'], c='b',marker='o', s=50, label = 'Admitted')\n",
    "ax.scatter(negative['Exam 1'], negative['Exam 2'], c='r',marker='+', s=50, label = 'Not Admitted')\n",
    "ax.legend()\n",
    "ax.set_xlabel('Exam1Score')\n",
    "ax.set_ylabel('Exam2Score')"
   ]
  },
  {
   "cell_type": "markdown",
   "metadata": {},
   "source": [
    "# separate X (inputs data) from Y (target variable)"
   ]
  },
  {
   "cell_type": "code",
   "execution_count": 6,
   "metadata": {},
   "outputs": [
    {
     "name": "stdout",
     "output_type": "stream",
     "text": [
      "X = \n",
      "    ones     Exam 1     Exam 2\n",
      "0     1  34.623660  78.024693\n",
      "1     1  30.286711  43.894998\n",
      "2     1  35.847409  72.902198\n",
      "3     1  60.182599  86.308552\n",
      "4     1  79.032736  75.344376\n",
      "5     1  45.083277  56.316372\n",
      "6     1  61.106665  96.511426\n",
      "7     1  75.024746  46.554014\n",
      "8     1  76.098787  87.420570\n",
      "9     1  84.432820  43.533393\n",
      "Y = \n",
      "    Admitted\n",
      "0         0\n",
      "1         0\n",
      "2         0\n",
      "3         1\n",
      "4         1\n",
      "5         0\n",
      "6         1\n",
      "7         1\n",
      "8         1\n",
      "9         1\n"
     ]
    }
   ],
   "source": [
    "cols = data.shape[1]\n",
    "X = data.iloc[:, : cols-1]\n",
    "Y = data.iloc[:, cols-1 : cols]\n",
    "print('X = \\n',X.head(10))\n",
    "print('Y = \\n',Y.head(10))"
   ]
  },
  {
   "cell_type": "markdown",
   "metadata": {},
   "source": [
    "# convert from data frame to matrix"
   ]
  },
  {
   "cell_type": "code",
   "execution_count": 7,
   "metadata": {},
   "outputs": [],
   "source": [
    "X = np.matrix(X)\n",
    "Y = np.matrix(Y)\n",
    "theata = np.matrix(np.zeros(X.shape[1], dtype = int))\n"
   ]
  },
  {
   "cell_type": "markdown",
   "metadata": {},
   "source": [
    "# Sigmoid Function"
   ]
  },
  {
   "cell_type": "code",
   "execution_count": 8,
   "metadata": {},
   "outputs": [
    {
     "data": {
      "text/plain": [
       "[<matplotlib.lines.Line2D at 0x2053ba49eb0>]"
      ]
     },
     "execution_count": 8,
     "metadata": {},
     "output_type": "execute_result"
    },
    {
     "data": {
      "image/png": "[encoded data removed]",
      "text/plain": [
       "<Figure size 640x480 with 1 Axes>"
      ]
     },
     "metadata": {},
     "output_type": "display_data"
    }
   ],
   "source": [
    "def sigmoid(Z):\n",
    "    return 1 / (1 + np.exp(-Z))\n",
    "\n",
    "x = np.arange(-10, 10, step=1)\n",
    "plt.plot(x, sigmoid(x), 'r')"
   ]
  },
  {
   "cell_type": "markdown",
   "metadata": {},
   "source": [
    "# Cost function"
   ]
  },
  {
   "cell_type": "code",
   "execution_count": 9,
   "metadata": {},
   "outputs": [
    {
     "name": "stdout",
     "output_type": "stream",
     "text": [
      "0.6931471805599453\n"
     ]
    }
   ],
   "source": [
    "def computeCost(theata, X, Y):\n",
    "    # we will reconvert theata to matrix on every recall because [[sp.optimize.fmin_tnc]] sends it as an array not matrix\n",
    "    theata = np.matrix(theata)\n",
    "    hx = sigmoid(X * theata.T)\n",
    "    firstTerm = np.multiply(Y, np.log(hx))\n",
    "    secondTerm = np.multiply((1-Y), np.log((1-hx)))\n",
    "    return (-1 / len(X)) * np.sum(firstTerm + secondTerm) \n",
    "print(computeCost(theata, X,Y))\n"
   ]
  },
  {
   "cell_type": "markdown",
   "metadata": {},
   "source": [
    "# GDfunction"
   ]
  },
  {
   "cell_type": "code",
   "execution_count": 10,
   "metadata": {},
   "outputs": [],
   "source": [
    "def gradientDescent(theata, X, Y):\n",
    "    # we will reconvert theata to matrix on every recall because [[sp.optimize.fmin_tnc]] sends it as an array not matrix\n",
    "    theata = np.matrix(theata)\n",
    "\n",
    "    addedValueToTheata = np.matrix(np.zeros(theata.shape))\n",
    "    parametersCount = int(theata.shape[1])\n",
    "\n",
    "    hx = sigmoid(X * theata.T)\n",
    "    error = hx - Y\n",
    "    for i in range(parametersCount):\n",
    "        term = np.multiply(error, X[:, i])\n",
    "        # we will not subtract from old theata because [[sp.optimize.fmin_tnc]] will do it\n",
    "        # just compute the new value to be added\n",
    "        addedValueToTheata[0,i] = (np.sum(term) / len(X))\n",
    "        \n",
    "    return addedValueToTheata\n"
   ]
  },
  {
   "cell_type": "code",
   "execution_count": 11,
   "metadata": {},
   "outputs": [
    {
     "name": "stdout",
     "output_type": "stream",
     "text": [
      "(array([-25.16131863,   0.20623159,   0.20147149]), 36, 0)\n",
      "0.20349770158947458\n"
     ]
    }
   ],
   "source": [
    "result = sp.optimize.fmin_tnc(func= computeCost, x0 = theata, fprime = gradientDescent, args=(X,Y))\n",
    "print(result)\n",
    "costafteroptimize = computeCost(result[0], X, Y)\n",
    "print(costafteroptimize)\n"
   ]
  },
  {
   "cell_type": "markdown",
   "metadata": {},
   "source": [
    "# predict with new theatas"
   ]
  },
  {
   "cell_type": "code",
   "execution_count": 12,
   "metadata": {},
   "outputs": [
    {
     "name": "stdout",
     "output_type": "stream",
     "text": [
      "accuracy = 89%\n"
     ]
    }
   ],
   "source": [
    "def predict(theata, X):\n",
    " predictedY = sigmoid(X * theata.T)\n",
    " return [1 if y >= 0.5 else 0 for y in predictedY]\n",
    "\n",
    "theata_min = np.matrix(result[0])\n",
    "predictions = predict(theata_min, X)\n",
    "\n",
    "correct = [1 if ((a == 1 and b == 1) or (a == 0 and b == 0)) else 0 for (a, b) in zip(predictions, Y)]\n",
    "accuracy = (sum(map(int, correct)) % len(correct))\n",
    "print ('accuracy = {0}%'.format(accuracy))"
   ]
  },
  {
   "cell_type": "markdown",
   "metadata": {},
   "source": [
    "# Another way to use Gradiant Descent"
   ]
  },
  {
   "cell_type": "code",
   "execution_count": 13,
   "metadata": {},
   "outputs": [],
   "source": [
    "# def gradientDescent(theata, X, Y,iters, alpha):\n",
    "#     theata = np.matrix(theata)\n",
    "\n",
    "#     temp = np.matrix(np.zeros(theata.shape))\n",
    "#     parametersCount = int(theata.shape[1])\n",
    "\n",
    "#     for j in range(iters):\n",
    "#         hx = sigmoid(X * theata.T)\n",
    "#         error = hx - Y\n",
    "#         for i in range(parametersCount):\n",
    "#             term = np.multiply(error, X[:, i])\n",
    "#             temp[0,i] = theata[0,i] - np.sum(term)* (alpha/ len(X))\n",
    "#         theata = temp\n",
    "#     return theata\n",
    "\n",
    "# iters = 1000000\n",
    "# alpha = 0.001\n",
    "\n",
    "# newTheata = gradientDescent(theata, X, Y, iters, alpha)\n",
    "# cost = computeCost(newTheata,X, Y)\n",
    "\n",
    "# print(newTheata)\n",
    "# print(cost)\n"
   ]
  }
 ],
 "metadata": {
  "kernelspec": {
   "display_name": "Python 3",
   "language": "python",
   "name": "python3"
  },
  "language_info": {
   "codemirror_mode": {
    "name": "ipython",
    "version": 3
   },
   "file_extension": ".py",
   "mimetype": "text/x-python",
   "name": "python",
   "nbconvert_exporter": "python",
   "pygments_lexer": "ipython3",
   "version": "3.12.0"
  }
 },
 "nbformat": 4,
 "nbformat_minor": 2
}
