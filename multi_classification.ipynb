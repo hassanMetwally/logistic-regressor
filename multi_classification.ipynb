{
 "cells": [
  {
   "cell_type": "code",
   "execution_count": 1,
   "metadata": {},
   "outputs": [],
   "source": [
    "import numpy as np\n",
    "import pandas as pd\n",
    "import matplotlib.pyplot as plt\n",
    "import scipy as sp\n",
    "from scipy.io import loadmat"
   ]
  },
  {
   "cell_type": "markdown",
   "metadata": {},
   "source": [
    "# read data\n",
    "# show data details"
   ]
  },
  {
   "cell_type": "code",
   "execution_count": 2,
   "metadata": {},
   "outputs": [
    {
     "name": "stdout",
     "output_type": "stream",
     "text": [
      "{'__header__': b'MATLAB 5.0 MAT-file, Platform: GLNXA64, Created on: Sun Oct 16 13:09:09 2011', '__version__': '1.0', '__globals__': [], 'X': array([[0., 0., 0., ..., 0., 0., 0.],\n",
      "       [0., 0., 0., ..., 0., 0., 0.],\n",
      "       [0., 0., 0., ..., 0., 0., 0.],\n",
      "       ...,\n",
      "       [0., 0., 0., ..., 0., 0., 0.],\n",
      "       [0., 0., 0., ..., 0., 0., 0.],\n",
      "       [0., 0., 0., ..., 0., 0., 0.]]), 'y': array([[10],\n",
      "       [10],\n",
      "       [10],\n",
      "       ...,\n",
      "       [ 9],\n",
      "       [ 9],\n",
      "       [ 9]], dtype=uint8)}\n",
      "--------------------------------------------------\n",
      "<class 'dict'>\n",
      "--------------------------------------------------\n",
      "<class 'numpy.ndarray'>\n",
      "--------------------------------------------------\n",
      "[[0. 0. 0. ... 0. 0. 0.]\n",
      " [0. 0. 0. ... 0. 0. 0.]\n",
      " [0. 0. 0. ... 0. 0. 0.]\n",
      " ...\n",
      " [0. 0. 0. ... 0. 0. 0.]\n",
      " [0. 0. 0. ... 0. 0. 0.]\n",
      " [0. 0. 0. ... 0. 0. 0.]]\n",
      "--------------------------------------------------\n",
      "(5000, 400)\n",
      "--------------------------------------------------\n",
      "(5000, 1)\n"
     ]
    }
   ],
   "source": [
    "data = loadmat(\"D:\\\\most_wonted\\\\ai_projects\\\\classification\\\\data_set\\\\data3.mat\")\n",
    "\n",
    "print(data)\n",
    "print('-' * 50)\n",
    "\n",
    "print(type(data))\n",
    "print('-' * 50)\n",
    "\n",
    "print(type(data['X']))\n",
    "print('-' * 50)\n",
    "\n",
    "print(data['X'])\n",
    "print('-' * 50)\n",
    "\n",
    "print(data['X'].shape)\n",
    "print('-' * 50)\n",
    "\n",
    "print(data['y'].shape)"
   ]
  },
  {
   "cell_type": "code",
   "execution_count": 3,
   "metadata": {},
   "outputs": [
    {
     "name": "stdout",
     "output_type": "stream",
     "text": [
      "[[0. 0. 0. ... 0. 0. 0.]\n",
      " [0. 0. 0. ... 0. 0. 0.]\n",
      " [0. 0. 0. ... 0. 0. 0.]\n",
      " ...\n",
      " [0. 0. 0. ... 0. 0. 0.]\n",
      " [0. 0. 0. ... 0. 0. 0.]\n",
      " [0. 0. 0. ... 0. 0. 0.]]\n",
      "[[10]\n",
      " [10]\n",
      " [10]\n",
      " ...\n",
      " [ 9]\n",
      " [ 9]\n",
      " [ 9]]\n"
     ]
    }
   ],
   "source": [
    "X = data['X']\n",
    "Y = data['y']\n",
    "\n",
    "print(X)\n",
    "print(Y)"
   ]
  },
  {
   "cell_type": "code",
   "execution_count": 4,
   "metadata": {},
   "outputs": [
    {
     "name": "stdout",
     "output_type": "stream",
     "text": [
      "rows =  5000\n",
      "params =  400\n"
     ]
    }
   ],
   "source": [
    "rows = data['X'].shape[0]\n",
    "params = data['X'].shape[1]\n",
    "\n",
    "print('rows = ' ,rows)\n",
    "print('params = ' , params)"
   ]
  },
  {
   "cell_type": "code",
   "execution_count": 5,
   "metadata": {},
   "outputs": [
    {
     "name": "stdout",
     "output_type": "stream",
     "text": [
      "[[1. 0. 0. ... 0. 0. 0.]\n",
      " [1. 0. 0. ... 0. 0. 0.]\n",
      " [1. 0. 0. ... 0. 0. 0.]\n",
      " ...\n",
      " [1. 0. 0. ... 0. 0. 0.]\n",
      " [1. 0. 0. ... 0. 0. 0.]\n",
      " [1. 0. 0. ... 0. 0. 0.]]\n"
     ]
    }
   ],
   "source": [
    "X = np.insert(X, 0, np.ones(rows), axis= 1)\n",
    "print(X)"
   ]
  },
  {
   "cell_type": "code",
   "execution_count": 6,
   "metadata": {},
   "outputs": [
    {
     "name": "stdout",
     "output_type": "stream",
     "text": [
      "[ 1  2  3  4  5  6  7  8  9 10]\n"
     ]
    }
   ],
   "source": [
    "labels = np.unique(Y)\n",
    "print(labels)\n",
    "\n",
    "# labels = np.insert(labels, 0, values = [0], axis = 0)\n",
    "# print(labels)\n"
   ]
  },
  {
   "cell_type": "code",
   "execution_count": 7,
   "metadata": {},
   "outputs": [
    {
     "name": "stdout",
     "output_type": "stream",
     "text": [
      "all_theta \n",
      " [[0. 0. 0. ... 0. 0. 0.]\n",
      " [0. 0. 0. ... 0. 0. 0.]\n",
      " [0. 0. 0. ... 0. 0. 0.]\n",
      " ...\n",
      " [0. 0. 0. ... 0. 0. 0.]\n",
      " [0. 0. 0. ... 0. 0. 0.]\n",
      " [0. 0. 0. ... 0. 0. 0.]]\n",
      "all_theta shape \n",
      " (10, 401)\n"
     ]
    }
   ],
   "source": [
    "all_theata = np.zeros((labels.shape[0], params + 1))\n",
    "print('all_theta \\n' , all_theata)\n",
    "print('all_theta shape \\n' , all_theata.shape)"
   ]
  },
  {
   "cell_type": "code",
   "execution_count": 8,
   "metadata": {},
   "outputs": [],
   "source": [
    "X = np.matrix(X)\n",
    "Y = np.matrix(Y)\n",
    "all_theata = np.matrix(all_theata)\n"
   ]
  },
  {
   "cell_type": "markdown",
   "metadata": {},
   "source": [
    "# Sigmoid Function"
   ]
  },
  {
   "cell_type": "code",
   "execution_count": 9,
   "metadata": {},
   "outputs": [
    {
     "data": {
      "text/plain": [
       "[<matplotlib.lines.Line2D at 0x1b94c5f87d0>]"
      ]
     },
     "execution_count": 9,
     "metadata": {},
     "output_type": "execute_result"
    },
    {
     "data": {
      "image/png": "[encoded data removed]",
      "text/plain": [
       "<Figure size 640x480 with 1 Axes>"
      ]
     },
     "metadata": {},
     "output_type": "display_data"
    }
   ],
   "source": [
    "def sigmoid(z):\n",
    "    return 1 / (1 + np.exp(-z))\n",
    "\n",
    "x = np.arange(-10, 10, step=1)\n",
    "plt.plot(x, sigmoid(x), 'r')"
   ]
  },
  {
   "cell_type": "markdown",
   "metadata": {},
   "source": [
    "# Cost function"
   ]
  },
  {
   "cell_type": "code",
   "execution_count": 10,
   "metadata": {},
   "outputs": [
    {
     "name": "stdout",
     "output_type": "stream",
     "text": [
      "1603.9425758157138\n"
     ]
    }
   ],
   "source": [
    "def costReg(theata, X, Y, lamda):\n",
    "    # we will reconvert theata to matrix on every recall because [[sp.optimize.fmin_tnc]] sends it as an array not matrix\n",
    "    theata = np.matrix(theata)\n",
    "    hx = sigmoid(X * theata.T)\n",
    "    firstTerm = np.multiply(Y, np.log(hx))\n",
    "    secondTerm = np.multiply((1-Y), np.log((1 - hx)))\n",
    "    \n",
    "    reg = (lamda/ len(X)) * np.sum(np.power(theata[:, 1: theata.shape[1]] , 2))\n",
    "\n",
    "    return (-1 / len(X)) * np.sum(firstTerm + secondTerm) + reg\n",
    "\n",
    "lamda = 0.0001\n",
    "print(costReg(all_theata, X, Y, lamda))"
   ]
  },
  {
   "cell_type": "markdown",
   "metadata": {},
   "source": [
    "# GDfunction"
   ]
  },
  {
   "cell_type": "code",
   "execution_count": 11,
   "metadata": {},
   "outputs": [],
   "source": [
    "def gradientDescent(theata, X, Y, lamda):\n",
    "    # we will reconvert theata to matrix on every recall because [[sp.optimize.minimize]] sends it as an array not matrix\n",
    "    theata = np.matrix(theata)\n",
    "\n",
    "    parametersCount = int(theata.shape[1])\n",
    "    valueThatWillBeAddedToTheata = np.matrix(np.zeros(parametersCount))\n",
    "\n",
    "    hx = sigmoid(X * theata.T)\n",
    "    error = hx - Y\n",
    "    for i in range(parametersCount):\n",
    "        term = np.multiply(error, X[:, i])\n",
    "        # we will not subtract from old theata because [[sp.optimize.minimize]] will do it\n",
    "        # just compute the new value to be added\n",
    "        if(i == 0):\n",
    "            valueThatWillBeAddedToTheata[0,i] = (np.sum(term) / len(X))\n",
    "        else:\n",
    "            valueThatWillBeAddedToTheata[0,i] = (np.sum(term)/len(X)) + ((lamda/len(X))* theata[:,i])\n",
    "\n",
    "            \n",
    "    return valueThatWillBeAddedToTheata\n",
    "\n",
    "def gradientDescent_without_loop(theata, X, y, lamda):\n",
    "    error = sigmoid(X * theata.T)- y\n",
    "    grad = ((X.T * error) / len(X)).T + ((lamda / len(X)) * theata)\n",
    "    # intercept gradient is not regularized\n",
    "    grad[0, 0] = np.sum(np.multiply(error, X[:,0])) / len(X)\n",
    "    return np.array(grad).ravel()"
   ]
  },
  {
   "cell_type": "markdown",
   "metadata": {},
   "source": [
    "# applying one_vs_all techniuqe"
   ]
  },
  {
   "cell_type": "code",
   "execution_count": 12,
   "metadata": {},
   "outputs": [
    {
     "name": "stderr",
     "output_type": "stream",
     "text": [
      "C:\\Users\\hasme\\AppData\\Local\\Temp\\ipykernel_18808\\835476707.py:17: DeprecationWarning: Conversion of an array with ndim > 0 to a scalar is deprecated, and will error in future. Ensure you extract a single element from your array before performing this operation. (Deprecated NumPy 1.25.)\n",
      "  valueThatWillBeAddedToTheata[0,i] = (np.sum(term)/len(X)) + ((lamda/len(X))* theata[:,i])\n",
      "C:\\Users\\hasme\\AppData\\Local\\Temp\\ipykernel_18808\\3046477439.py:6: RuntimeWarning: divide by zero encountered in log\n",
      "  secondTerm = np.multiply((1-Y), np.log((1 - hx)))\n",
      "C:\\Users\\hasme\\AppData\\Local\\Temp\\ipykernel_18808\\3046477439.py:6: RuntimeWarning: invalid value encountered in multiply\n",
      "  secondTerm = np.multiply((1-Y), np.log((1 - hx)))\n"
     ]
    },
    {
     "name": "stdout",
     "output_type": "stream",
     "text": [
      "[[-5.00367318e+00  0.00000000e+00  0.00000000e+00 ...  1.28339092e-02\n",
      "   2.87614933e-07  0.00000000e+00]\n",
      " [-5.51510433e+00  0.00000000e+00  0.00000000e+00 ...  6.97668600e-02\n",
      "  -7.13610804e-03  0.00000000e+00]\n",
      " [-7.41701089e+00  0.00000000e+00  0.00000000e+00 ... -2.46627725e-04\n",
      "  -9.51467433e-07  0.00000000e+00]\n",
      " ...\n",
      " [-1.21416208e+01  0.00000000e+00  0.00000000e+00 ... -2.40527804e-01\n",
      "   2.77681978e-02  0.00000000e+00]\n",
      " [-8.23487514e+00  0.00000000e+00  0.00000000e+00 ... -1.10957899e-01\n",
      "   7.35052185e-03  0.00000000e+00]\n",
      " [-1.21914079e+01  0.00000000e+00  0.00000000e+00 ...  1.14184174e-03\n",
      "   5.06954001e-05  0.00000000e+00]]\n"
     ]
    }
   ],
   "source": [
    "def one_vs_all(X, Y, all_theata, labels, lamda):\n",
    "    \n",
    "    for i in labels:\n",
    "        y_i = np.array([1 if label == i else 0  for label in Y])\n",
    "\n",
    "        # converting array to matrix with same shape 'or same dimintions'\n",
    "        y_i = np.reshape(y_i, (rows, 1))\n",
    "        \n",
    "        theta = np.zeros(params + 1)\n",
    "        fmin = sp.optimize.minimize(fun= costReg, x0 = theta, args=(X, y_i, lamda), method='TNC', jac= gradientDescent)\n",
    "        all_theata[i-1,:] = fmin.x\n",
    "\n",
    "    return all_theata\n",
    "\n",
    "all_theata = one_vs_all(X, Y, all_theata, labels, lamda)\n",
    "print(all_theata)"
   ]
  },
  {
   "cell_type": "code",
   "execution_count": 13,
   "metadata": {},
   "outputs": [
    {
     "name": "stdout",
     "output_type": "stream",
     "text": [
      "(5000, 10)\n",
      "(5000, 1)\n",
      "[[10]\n",
      " [10]\n",
      " [10]\n",
      " ...\n",
      " [ 9]\n",
      " [ 9]\n",
      " [ 9]]\n",
      "accuracy = 97.48%\n"
     ]
    }
   ],
   "source": [
    "\n",
    "def predict_all(X, all_theta):\n",
    " \n",
    "    # compute the class probability for each class on each training instance\n",
    "    h =sigmoid(X * all_theta.T)\n",
    "    print(h.shape)\n",
    "\n",
    "    # create array of the index with the maximum probability\n",
    "    h_argmax = np.argmax(h, axis=1)\n",
    "    print(h_argmax.shape)\n",
    "\n",
    "    # because our array was zero-indexed we need to add one for the true label prediction\n",
    "    h_argmax = h_argmax + 1\n",
    "    \n",
    "\n",
    "    return h_argmax\n",
    "\n",
    "y_pred = predict_all(X, all_theata)\n",
    "print(y_pred)\n",
    "correct = [1 if a == b else 0 for (a, b) in zip(y_pred, data['y'])]\n",
    "accuracy = (sum(map(int, correct)) / float(len(correct)))\n",
    "print ('accuracy = {0}%'.format(accuracy * 100))\n"
   ]
  }
 ],
 "metadata": {
  "kernelspec": {
   "display_name": "Python 3",
   "language": "python",
   "name": "python3"
  },
  "language_info": {
   "codemirror_mode": {
    "name": "ipython",
    "version": 3
   },
   "file_extension": ".py",
   "mimetype": "text/x-python",
   "name": "python",
   "nbconvert_exporter": "python",
   "pygments_lexer": "ipython3",
   "version": "3.12.0"
  }
 },
 "nbformat": 4,
 "nbformat_minor": 2
}
